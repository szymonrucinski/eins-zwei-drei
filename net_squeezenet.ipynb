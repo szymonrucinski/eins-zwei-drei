{
 "cells": [
  {
   "cell_type": "code",
   "execution_count": 1,
   "metadata": {},
   "outputs": [],
   "source": [
    "import torch\n",
    "import numpy\n",
    "import pandas as pd\n",
    "import torch.nn as nn\n",
    "import torchvision\n",
    "import torchvision.transforms as transforms\n",
    "import matplotlib.pyplot as plt\n",
    "import matplotlib.pyplot as plt\n",
    "import itertools\n",
    "from sklearn.metrics import confusion_matrix\n",
    "from plot_confusion_matrix import plot_confusion_matrix\n",
    "from torchviz import make_dot\n",
    "from torchsummary import summary\n",
    "import torchvision.transforms.functional as TF\n",
    "from pytorchtools import EarlyStopping"
   ]
  },
  {
   "cell_type": "code",
   "execution_count": 2,
   "metadata": {},
   "outputs": [],
   "source": [
    "torch.cuda.empty_cache()"
   ]
  },
  {
   "cell_type": "code",
   "execution_count": 3,
   "metadata": {},
   "outputs": [
    {
     "name": "stdout",
     "output_type": "stream",
     "text": [
      "cuda\n"
     ]
    }
   ],
   "source": [
    "device = torch.device('cuda' if torch.cuda.is_available() else 'cpu')\n",
    "print(device)"
   ]
  },
  {
   "cell_type": "code",
   "execution_count": 4,
   "metadata": {},
   "outputs": [],
   "source": [
    "input_size = 784\n",
    "hidden_size = 500\n",
    "num_classes = 10\n",
    "num_epochs = 40\n",
    "patience = 10\n",
    "batch_size = 32\n",
    "learning_rate = 0.001"
   ]
  },
  {
   "cell_type": "markdown",
   "metadata": {},
   "source": [
    "### MNIST dataset "
   ]
  },
  {
   "cell_type": "code",
   "execution_count": 5,
   "metadata": {},
   "outputs": [],
   "source": [
    "modification=transforms.Compose([\n",
    "        transforms.Resize(224),\n",
    "        transforms.ToTensor(),\n",
    "        transforms.Normalize((0.1307,), (0.3081,)),\n",
    "        transforms.Lambda(lambda x: x.expand(3, -1, -1))\n",
    "    ])"
   ]
  },
  {
   "cell_type": "code",
   "execution_count": 6,
   "metadata": {},
   "outputs": [],
   "source": [
    "train_dataset = torchvision.datasets.MNIST(root='..//set', \n",
    "                                           train=True, \n",
    "                                           transform=modification,  \n",
    "                                           download=True)"
   ]
  },
  {
   "cell_type": "code",
   "execution_count": 7,
   "metadata": {},
   "outputs": [],
   "source": [
    "test_dataset = torchvision.datasets.MNIST(root='..///set', \n",
    "                                          train=False, \n",
    "                                          transform=modification)"
   ]
  },
  {
   "cell_type": "code",
   "execution_count": 8,
   "metadata": {},
   "outputs": [],
   "source": [
    "# Data loader\n",
    "train_loader = torch.utils.data.DataLoader(dataset=train_dataset, \n",
    "                                           batch_size=batch_size, \n",
    "                                           shuffle=True)\n",
    "\n",
    "test_loader = torch.utils.data.DataLoader(dataset=test_dataset, \n",
    "                                          batch_size=batch_size, \n",
    "                                          shuffle=False)"
   ]
  },
  {
   "cell_type": "markdown",
   "metadata": {},
   "source": [
    "### Model"
   ]
  },
  {
   "cell_type": "code",
   "execution_count": 9,
   "metadata": {},
   "outputs": [
    {
     "name": "stderr",
     "output_type": "stream",
     "text": [
      "Using cache found in C:\\Users\\Szymon/.cache\\torch\\hub\\pytorch_vision_v0.6.0\n"
     ]
    }
   ],
   "source": [
    "model = torch.hub.load('pytorch/vision:v0.6.0', 'squeezenet1_0', pretrained=True).to(device)"
   ]
  },
  {
   "cell_type": "markdown",
   "metadata": {},
   "source": [
    "### Loss and optimizer"
   ]
  },
  {
   "cell_type": "code",
   "execution_count": 10,
   "metadata": {},
   "outputs": [],
   "source": [
    "criterion = nn.CrossEntropyLoss().to(device)\n",
    "optimizer = torch.optim.Adam(model.parameters(), lr=learning_rate)\n",
    "running_loss = 0\n",
    "losses = []"
   ]
  },
  {
   "cell_type": "markdown",
   "metadata": {},
   "source": [
    "### Model Architecture"
   ]
  },
  {
   "cell_type": "code",
   "execution_count": 11,
   "metadata": {},
   "outputs": [
    {
     "name": "stdout",
     "output_type": "stream",
     "text": [
      "----------------------------------------------------------------\n",
      "        Layer (type)               Output Shape         Param #\n",
      "================================================================\n",
      "            Conv2d-1         [-1, 96, 109, 109]          14,208\n",
      "              ReLU-2         [-1, 96, 109, 109]               0\n",
      "         MaxPool2d-3           [-1, 96, 54, 54]               0\n",
      "            Conv2d-4           [-1, 16, 54, 54]           1,552\n",
      "              ReLU-5           [-1, 16, 54, 54]               0\n",
      "            Conv2d-6           [-1, 64, 54, 54]           1,088\n",
      "              ReLU-7           [-1, 64, 54, 54]               0\n",
      "            Conv2d-8           [-1, 64, 54, 54]           9,280\n",
      "              ReLU-9           [-1, 64, 54, 54]               0\n",
      "             Fire-10          [-1, 128, 54, 54]               0\n",
      "           Conv2d-11           [-1, 16, 54, 54]           2,064\n",
      "             ReLU-12           [-1, 16, 54, 54]               0\n",
      "           Conv2d-13           [-1, 64, 54, 54]           1,088\n",
      "             ReLU-14           [-1, 64, 54, 54]               0\n",
      "           Conv2d-15           [-1, 64, 54, 54]           9,280\n",
      "             ReLU-16           [-1, 64, 54, 54]               0\n",
      "             Fire-17          [-1, 128, 54, 54]               0\n",
      "           Conv2d-18           [-1, 32, 54, 54]           4,128\n",
      "             ReLU-19           [-1, 32, 54, 54]               0\n",
      "           Conv2d-20          [-1, 128, 54, 54]           4,224\n",
      "             ReLU-21          [-1, 128, 54, 54]               0\n",
      "           Conv2d-22          [-1, 128, 54, 54]          36,992\n",
      "             ReLU-23          [-1, 128, 54, 54]               0\n",
      "             Fire-24          [-1, 256, 54, 54]               0\n",
      "        MaxPool2d-25          [-1, 256, 27, 27]               0\n",
      "           Conv2d-26           [-1, 32, 27, 27]           8,224\n",
      "             ReLU-27           [-1, 32, 27, 27]               0\n",
      "           Conv2d-28          [-1, 128, 27, 27]           4,224\n",
      "             ReLU-29          [-1, 128, 27, 27]               0\n",
      "           Conv2d-30          [-1, 128, 27, 27]          36,992\n",
      "             ReLU-31          [-1, 128, 27, 27]               0\n",
      "             Fire-32          [-1, 256, 27, 27]               0\n",
      "           Conv2d-33           [-1, 48, 27, 27]          12,336\n",
      "             ReLU-34           [-1, 48, 27, 27]               0\n",
      "           Conv2d-35          [-1, 192, 27, 27]           9,408\n",
      "             ReLU-36          [-1, 192, 27, 27]               0\n",
      "           Conv2d-37          [-1, 192, 27, 27]          83,136\n",
      "             ReLU-38          [-1, 192, 27, 27]               0\n",
      "             Fire-39          [-1, 384, 27, 27]               0\n",
      "           Conv2d-40           [-1, 48, 27, 27]          18,480\n",
      "             ReLU-41           [-1, 48, 27, 27]               0\n",
      "           Conv2d-42          [-1, 192, 27, 27]           9,408\n",
      "             ReLU-43          [-1, 192, 27, 27]               0\n",
      "           Conv2d-44          [-1, 192, 27, 27]          83,136\n",
      "             ReLU-45          [-1, 192, 27, 27]               0\n",
      "             Fire-46          [-1, 384, 27, 27]               0\n",
      "           Conv2d-47           [-1, 64, 27, 27]          24,640\n",
      "             ReLU-48           [-1, 64, 27, 27]               0\n",
      "           Conv2d-49          [-1, 256, 27, 27]          16,640\n",
      "             ReLU-50          [-1, 256, 27, 27]               0\n",
      "           Conv2d-51          [-1, 256, 27, 27]         147,712\n",
      "             ReLU-52          [-1, 256, 27, 27]               0\n",
      "             Fire-53          [-1, 512, 27, 27]               0\n",
      "        MaxPool2d-54          [-1, 512, 13, 13]               0\n",
      "           Conv2d-55           [-1, 64, 13, 13]          32,832\n",
      "             ReLU-56           [-1, 64, 13, 13]               0\n",
      "           Conv2d-57          [-1, 256, 13, 13]          16,640\n",
      "             ReLU-58          [-1, 256, 13, 13]               0\n",
      "           Conv2d-59          [-1, 256, 13, 13]         147,712\n",
      "             ReLU-60          [-1, 256, 13, 13]               0\n",
      "             Fire-61          [-1, 512, 13, 13]               0\n",
      "          Dropout-62          [-1, 512, 13, 13]               0\n",
      "           Conv2d-63         [-1, 1000, 13, 13]         513,000\n",
      "             ReLU-64         [-1, 1000, 13, 13]               0\n",
      "AdaptiveAvgPool2d-65           [-1, 1000, 1, 1]               0\n",
      "================================================================\n",
      "Total params: 1,248,424\n",
      "Trainable params: 1,248,424\n",
      "Non-trainable params: 0\n",
      "----------------------------------------------------------------\n",
      "Input size (MB): 0.57\n",
      "Forward/backward pass size (MB): 91.80\n",
      "Params size (MB): 4.76\n",
      "Estimated Total Size (MB): 97.14\n",
      "----------------------------------------------------------------\n"
     ]
    }
   ],
   "source": [
    "summary(model, (3,224, 224))"
   ]
  },
  {
   "cell_type": "markdown",
   "metadata": {},
   "source": [
    "### Train Model"
   ]
  },
  {
   "cell_type": "code",
   "execution_count": 12,
   "metadata": {},
   "outputs": [],
   "source": [
    "# to track the training loss as the model trains\n",
    "train_losses = []\n",
    "# to track the validation loss as the model trains\n",
    "valid_losses = []\n",
    "# to track the average training loss per epoch as the model trains\n",
    "avg_train_losses = []\n",
    "# to track the average validation loss per epoch as the model trains\n",
    "avg_valid_losses = []"
   ]
  },
  {
   "cell_type": "code",
   "execution_count": 13,
   "metadata": {},
   "outputs": [
    {
     "name": "stdout",
     "output_type": "stream",
     "text": [
      "60000\n",
      "train_loss: 0.36389 valid_loss: 0.08520\n",
      "Validation loss decreased (inf --> 0.085202).  Saving model ...\n",
      "0\n",
      "train_loss: 0.07937 valid_loss: 0.06258\n",
      "Validation loss decreased (0.085202 --> 0.062576).  Saving model ...\n",
      "1\n",
      "train_loss: 0.05786 valid_loss: 0.03972\n",
      "Validation loss decreased (0.062576 --> 0.039720).  Saving model ...\n",
      "2\n",
      "train_loss: 0.05037 valid_loss: 0.04341\n",
      "EarlyStopping counter: 1 out of 10\n",
      "3\n",
      "train_loss: 0.04395 valid_loss: 0.03342\n",
      "Validation loss decreased (0.039720 --> 0.033425).  Saving model ...\n",
      "4\n",
      "train_loss: 0.03830 valid_loss: 0.03778\n",
      "EarlyStopping counter: 1 out of 10\n",
      "5\n",
      "train_loss: 0.03338 valid_loss: 0.04019\n",
      "EarlyStopping counter: 2 out of 10\n",
      "6\n",
      "train_loss: 0.02998 valid_loss: 0.03958\n",
      "EarlyStopping counter: 3 out of 10\n",
      "7\n",
      "train_loss: 0.02613 valid_loss: 0.02410\n",
      "Validation loss decreased (0.033425 --> 0.024103).  Saving model ...\n",
      "8\n",
      "train_loss: 0.02550 valid_loss: 0.02534\n",
      "EarlyStopping counter: 1 out of 10\n",
      "9\n",
      "train_loss: 0.02647 valid_loss: 0.02555\n",
      "EarlyStopping counter: 2 out of 10\n",
      "10\n",
      "train_loss: 0.02100 valid_loss: 0.02795\n",
      "EarlyStopping counter: 3 out of 10\n",
      "11\n",
      "train_loss: 0.01973 valid_loss: 0.02800\n",
      "EarlyStopping counter: 4 out of 10\n",
      "12\n",
      "train_loss: 0.01937 valid_loss: 0.02464\n",
      "EarlyStopping counter: 5 out of 10\n",
      "13\n",
      "train_loss: 0.01818 valid_loss: 0.02892\n",
      "EarlyStopping counter: 6 out of 10\n",
      "14\n",
      "train_loss: 0.01713 valid_loss: 0.03033\n",
      "EarlyStopping counter: 7 out of 10\n",
      "15\n",
      "train_loss: 0.01548 valid_loss: 0.02308\n",
      "Validation loss decreased (0.024103 --> 0.023084).  Saving model ...\n",
      "16\n",
      "train_loss: 0.01467 valid_loss: 0.02891\n",
      "EarlyStopping counter: 1 out of 10\n",
      "17\n",
      "train_loss: 0.01492 valid_loss: 0.02306\n",
      "Validation loss decreased (0.023084 --> 0.023059).  Saving model ...\n",
      "18\n",
      "train_loss: 0.01418 valid_loss: 0.02051\n",
      "Validation loss decreased (0.023059 --> 0.020508).  Saving model ...\n",
      "19\n",
      "train_loss: 0.01435 valid_loss: 0.02325\n",
      "EarlyStopping counter: 1 out of 10\n",
      "20\n",
      "train_loss: 0.01349 valid_loss: 0.02458\n",
      "EarlyStopping counter: 2 out of 10\n",
      "21\n",
      "train_loss: 0.01282 valid_loss: 0.02053\n",
      "EarlyStopping counter: 3 out of 10\n",
      "22\n",
      "train_loss: 0.01092 valid_loss: 0.03484\n",
      "EarlyStopping counter: 4 out of 10\n",
      "23\n",
      "train_loss: 0.01134 valid_loss: 0.02664\n",
      "EarlyStopping counter: 5 out of 10\n",
      "24\n",
      "train_loss: 0.01279 valid_loss: 0.03191\n",
      "EarlyStopping counter: 6 out of 10\n",
      "25\n",
      "train_loss: 0.01122 valid_loss: 0.03365\n",
      "EarlyStopping counter: 7 out of 10\n",
      "26\n",
      "train_loss: 0.00985 valid_loss: 0.02338\n",
      "EarlyStopping counter: 8 out of 10\n",
      "27\n",
      "train_loss: 0.01326 valid_loss: 0.03312\n",
      "EarlyStopping counter: 9 out of 10\n",
      "28\n",
      "train_loss: 0.01048 valid_loss: 0.02941\n",
      "EarlyStopping counter: 10 out of 10\n",
      "29\n",
      "Early stopping\n"
     ]
    }
   ],
   "source": [
    "size = len(train_loader.dataset)\n",
    "print(size)\n",
    "\n",
    "# initialize the early_stopping object\n",
    "early_stopping = EarlyStopping(patience=patience, verbose=True)\n",
    "\n",
    "for epoch in range(num_epochs):\n",
    "    ##########################    \n",
    "    #######TRAIN MODEL########\n",
    "    ##########################\n",
    "    epochs_loss=0\n",
    "    for i, (images, labels) in enumerate(train_loader):  \n",
    "        # Move tensors to the configured device\n",
    "        images = images.to(device)\n",
    "        labels = labels.to(device)\n",
    "        # Forward pass\n",
    "        outputs = model(images).to(device)\n",
    "        loss = criterion(outputs, labels)\n",
    "        \n",
    "        # Backprpagation and optimization\n",
    "        optimizer.zero_grad()\n",
    "        loss.backward()\n",
    "        \n",
    "        #calculate train_loss\n",
    "        train_losses.append(loss.item())\n",
    "        optimizer.step()\n",
    "    \n",
    "    ##########################    \n",
    "    #####VALIDATE MODEL#######\n",
    "    ##########################\n",
    "    model.eval()\n",
    "    for images, labels in test_loader:\n",
    "        images = images.to(device)\n",
    "        labels = labels.to(device)\n",
    "        outputs = model(images).to(device)\n",
    "        loss = criterion(outputs,labels)\n",
    "        valid_losses.append(loss.item())\n",
    "    \n",
    "    # print training/validation statistics \n",
    "    # calculate average loss over an epoch\n",
    "    train_loss = numpy.average(train_losses)\n",
    "    valid_loss = numpy.average(valid_losses)\n",
    "#     print(train_loss)\n",
    "    avg_train_losses.append(train_loss)\n",
    "    avg_valid_losses.append(valid_loss)\n",
    "    \n",
    "    print_msg = (f'train_loss: {train_loss:.5f} ' + f'valid_loss: {valid_loss:.5f}')\n",
    "    \n",
    "    print(print_msg)\n",
    "\n",
    "    \n",
    "    # clear lists to track next epoch\n",
    "    train_losses = []\n",
    "    valid_losses = []\n",
    "    \n",
    "    early_stopping(valid_loss, model)\n",
    "    print(epoch)\n",
    "        \n",
    "    if early_stopping.early_stop:\n",
    "        print(\"Early stopping\")\n",
    "        break           "
   ]
  },
  {
   "cell_type": "code",
   "execution_count": 14,
   "metadata": {},
   "outputs": [
    {
     "data": {
      "text/plain": [
       "<All keys matched successfully>"
      ]
     },
     "execution_count": 14,
     "metadata": {},
     "output_type": "execute_result"
    }
   ],
   "source": [
    "# load the last checkpoint with the best model\n",
    "model.load_state_dict(torch.load('checkpoint.pt'))"
   ]
  },
  {
   "cell_type": "markdown",
   "metadata": {},
   "source": [
    "### Loss function vs Epoch"
   ]
  },
  {
   "cell_type": "code",
   "execution_count": 15,
   "metadata": {},
   "outputs": [
    {
     "name": "stdout",
     "output_type": "stream",
     "text": [
      "19\n"
     ]
    },
    {
     "data": {
      "image/png": "[encoded data removed]",
      "text/plain": [
       "<Figure size 432x288 with 1 Axes>"
      ]
     },
     "metadata": {
      "needs_background": "light"
     },
     "output_type": "display_data"
    }
   ],
   "source": [
    "fig = plt.figure()\n",
    "\n",
    "######1st plot#########\n",
    "ax1 = fig.add_subplot()\n",
    "ax1.set_ylabel('valid  /  train loss')\n",
    "ax1.set_xlabel('number of epochs')\n",
    "halt = avg_valid_losses.index(min(avg_valid_losses))\n",
    "\n",
    "\n",
    "plt.axvline(x=halt, color='r', linestyle=\"--\", label=\"stop training\")\n",
    "\n",
    "print(avg_valid_losses.index(min(avg_valid_losses)))\n",
    "\n",
    "\n",
    "plt.plot(list(range(len(avg_valid_losses))), avg_valid_losses, label = \"valid loss\")\n",
    "plt.plot(list(range(len(avg_valid_losses))), avg_train_losses, label=\"train loss\")\n",
    "\n",
    "h,labels = ax1.get_legend_handles_labels()\n",
    "labels[:1] = ['stop training','valid loss', 'train loss',]\n",
    "ax1.legend(labels=labels)\n",
    "\n",
    "plt.show()"
   ]
  },
  {
   "cell_type": "markdown",
   "metadata": {},
   "source": [
    "### Test the model"
   ]
  },
  {
   "cell_type": "code",
   "execution_count": 16,
   "metadata": {},
   "outputs": [
    {
     "name": "stdout",
     "output_type": "stream",
     "text": [
      "Accuracy of the network on the 10000 test images: 99.29 %\n"
     ]
    }
   ],
   "source": [
    "with torch.no_grad():\n",
    "    correct = 0\n",
    "    total = 0\n",
    "    for images, labels in test_loader:\n",
    "        images = images.to(device)\n",
    "        labels = labels.to(device)\n",
    "        outputs = model(images)\n",
    "        _, predicted = torch.max(outputs.data, 1)\n",
    "        total += labels.size(0)\n",
    "        correct += (predicted == labels).sum().item()\n",
    "\n",
    "    print('Accuracy of the network on the 10000 test images: {} %'.format(100 * correct / total))\n",
    "\n",
    "# Save the model checkpoint\n",
    "torch.save(model.state_dict(), '.\\\\models\\\\squeeznet.ckpt')"
   ]
  },
  {
   "cell_type": "markdown",
   "metadata": {},
   "source": [
    "### Confusion Matrix"
   ]
  },
  {
   "cell_type": "code",
   "execution_count": 17,
   "metadata": {},
   "outputs": [],
   "source": [
    "@torch.no_grad()\n",
    "def get_all_preds(model, loader):\n",
    "    all_preds = torch.tensor([]).to(device)\n",
    "    for batch in loader:\n",
    "        images, labels = batch\n",
    "        images = images.to(device)\n",
    "        labels = labels.to(device)\n",
    "\n",
    "        preds = model(images).to(device)\n",
    "        all_preds = torch.cat(\n",
    "            (all_preds, preds)\n",
    "            ,dim=0\n",
    "        )\n",
    "    return all_preds"
   ]
  },
  {
   "cell_type": "code",
   "execution_count": 18,
   "metadata": {
    "scrolled": true
   },
   "outputs": [
    {
     "name": "stdout",
     "output_type": "stream",
     "text": [
      "total correct 9929\n",
      "accuracy 0.9929\n"
     ]
    },
    {
     "data": {
      "text/plain": [
       "True"
      ]
     },
     "execution_count": 18,
     "metadata": {},
     "output_type": "execute_result"
    }
   ],
   "source": [
    "with torch.no_grad():\n",
    "    prediction_loader = torch.utils.data.DataLoader(test_dataset, batch_size=batch_size)\n",
    "    train_preds = get_all_preds(model, prediction_loader).to(device)\n",
    "    \n",
    "train_preds.shape\n",
    "train_preds.grad_fn\n",
    "train_preds.grad\n",
    "\n",
    "def get_num_correct(preds, labels):\n",
    "    return preds.argmax(dim=1).eq(labels).sum().item()\n",
    "\n",
    "preds_correct = get_num_correct(train_preds, test_dataset.targets.to(device) )\n",
    "print('total correct', preds_correct)\n",
    "print('accuracy', preds_correct / len(test_dataset))\n",
    "train_preds.is_cuda"
   ]
  },
  {
   "cell_type": "code",
   "execution_count": 19,
   "metadata": {},
   "outputs": [],
   "source": [
    "stacked = torch.stack((test_dataset.targets.to(device), train_preds.argmax(dim=1)), dim=1)"
   ]
  },
  {
   "cell_type": "code",
   "execution_count": 20,
   "metadata": {},
   "outputs": [
    {
     "data": {
      "text/plain": [
       "[9, 9]"
      ]
     },
     "execution_count": 20,
     "metadata": {},
     "output_type": "execute_result"
    }
   ],
   "source": [
    "stacked[9].tolist()"
   ]
  },
  {
   "cell_type": "code",
   "execution_count": 21,
   "metadata": {},
   "outputs": [],
   "source": [
    "cmt = torch.zeros(10,10, dtype=torch.int64)"
   ]
  },
  {
   "cell_type": "code",
   "execution_count": 22,
   "metadata": {},
   "outputs": [],
   "source": [
    "for p in stacked:\n",
    "    j,k = p.tolist()\n",
    "    cmt[j,k] = cmt[j, k] + 1"
   ]
  },
  {
   "cell_type": "code",
   "execution_count": 23,
   "metadata": {},
   "outputs": [
    {
     "data": {
      "text/plain": [
       "tensor([[ 977,    0,    0,    0,    0,    0,    3,    0,    0,    0],\n",
       "        [   0, 1131,    1,    0,    0,    0,    1,    2,    0,    0],\n",
       "        [   0,    0, 1030,    0,    0,    0,    0,    2,    0,    0],\n",
       "        [   0,    0,    1, 1001,    0,    3,    0,    2,    3,    0],\n",
       "        [   0,    0,    0,    0,  971,    0,    1,    3,    1,    6],\n",
       "        [   1,    0,    0,    6,    0,  881,    2,    1,    1,    0],\n",
       "        [   0,    2,    1,    0,    0,    1,  953,    0,    1,    0],\n",
       "        [   0,    4,    2,    0,    0,    0,    0, 1022,    0,    0],\n",
       "        [   0,    0,    1,    0,    0,    0,    0,    0,  972,    1],\n",
       "        [   0,    0,    4,    1,    5,    1,    1,    3,    3,  991]])"
      ]
     },
     "execution_count": 23,
     "metadata": {},
     "output_type": "execute_result"
    }
   ],
   "source": [
    "cmt"
   ]
  },
  {
   "cell_type": "code",
   "execution_count": 24,
   "metadata": {},
   "outputs": [],
   "source": [
    "import matplotlib.pyplot as plt\n",
    "from sklearn.metrics import confusion_matrix"
   ]
  },
  {
   "cell_type": "code",
   "execution_count": 25,
   "metadata": {},
   "outputs": [],
   "source": [
    "lb = test_dataset.targets.detach().cpu().numpy()"
   ]
  },
  {
   "cell_type": "code",
   "execution_count": 26,
   "metadata": {},
   "outputs": [
    {
     "name": "stdout",
     "output_type": "stream",
     "text": [
      "[7 2 1 ... 4 5 6]\n"
     ]
    }
   ],
   "source": [
    "rp = train_preds.argmax(dim=1).detach().cpu().numpy()\n",
    "print(rp)"
   ]
  },
  {
   "cell_type": "code",
   "execution_count": 27,
   "metadata": {},
   "outputs": [],
   "source": [
    "cm = confusion_matrix(lb, rp)"
   ]
  },
  {
   "cell_type": "code",
   "execution_count": 28,
   "metadata": {},
   "outputs": [
    {
     "name": "stdout",
     "output_type": "stream",
     "text": [
      "Confusion matrix, without normalization\n",
      "[[ 977    0    0    0    0    0    3    0    0    0]\n",
      " [   0 1131    1    0    0    0    1    2    0    0]\n",
      " [   0    0 1030    0    0    0    0    2    0    0]\n",
      " [   0    0    1 1001    0    3    0    2    3    0]\n",
      " [   0    0    0    0  971    0    1    3    1    6]\n",
      " [   1    0    0    6    0  881    2    1    1    0]\n",
      " [   0    2    1    0    0    1  953    0    1    0]\n",
      " [   0    4    2    0    0    0    0 1022    0    0]\n",
      " [   0    0    1    0    0    0    0    0  972    1]\n",
      " [   0    0    4    1    5    1    1    3    3  991]]\n"
     ]
    },
    {
     "data": {
      "image/png": "[encoded data removed]",
      "text/plain": [
       "<Figure size 720x720 with 2 Axes>"
      ]
     },
     "metadata": {
      "needs_background": "light"
     },
     "output_type": "display_data"
    }
   ],
   "source": [
    "names = set(lb)\n",
    "plt.figure(figsize=(10,10))\n",
    "plot_confusion_matrix(cm, names)"
   ]
  },
  {
   "cell_type": "code",
   "execution_count": 33,
   "metadata": {},
   "outputs": [],
   "source": [
    "def test(model, device, test_loader):\n",
    "    model.eval()\n",
    "    test_loss = 0\n",
    "    correct = 0\n",
    "    with torch.no_grad():\n",
    "        for data, target in test_loader:\n",
    "            target = target.to(device)\n",
    "            data = data.to(device)\n",
    "            output = model(data)\n",
    "            \n",
    "            test_loss += nn.functional.nll_loss(output, target, reduction='sum').item()  # sum up batch loss\n",
    "            pred = output.argmax(dim=1, keepdim=True)  # get the index of the max log-probability\n",
    "            correct += pred.eq(target.view_as(pred)).sum().item()\n",
    "\n",
    "            # Store wrongly predicted images\n",
    "            wrong_idx = (pred != target.view_as(pred)).nonzero()[:, 0]\n",
    "            wrong_samples = data[wrong_idx]\n",
    "            wrong_preds = pred[wrong_idx]\n",
    "            actual_preds = target.view_as(pred)[wrong_idx]\n",
    "\n",
    "            for i in range(len(wrong_idx)):\n",
    "                sample = wrong_samples[i]\n",
    "                wrong_pred = wrong_preds[i]\n",
    "                actual_pred = actual_preds[i]\n",
    "                # Undo normalization\n",
    "#                 print(wrong_samples[i].shape)\n",
    "                sample = sample.to(device)\n",
    "                sample = sample * 0.3081\n",
    "                sample = sample + 0.1307\n",
    "                sample = sample * 255.\n",
    "                sample = sample.byte()\n",
    "                img = TF.to_pil_image(sample)\n",
    "                path = '.\\\\mistakes\\\\squeezenet\\\\'\n",
    "                img.save(path+'wrong_idx{}_pred{}_actual{}.png'.format(\n",
    "                    wrong_idx[i], wrong_pred.item(), actual_pred.item()))"
   ]
  },
  {
   "cell_type": "code",
   "execution_count": 34,
   "metadata": {},
   "outputs": [],
   "source": [
    "test(model,device, test_loader)"
   ]
  },
  {
   "cell_type": "code",
   "execution_count": null,
   "metadata": {},
   "outputs": [],
   "source": []
  }
 ],
 "metadata": {
  "kernelspec": {
   "display_name": "Python 3",
   "language": "python",
   "name": "python3"
  },
  "language_info": {
   "codemirror_mode": {
    "name": "ipython",
    "version": 3
   },
   "file_extension": ".py",
   "mimetype": "text/x-python",
   "name": "python",
   "nbconvert_exporter": "python",
   "pygments_lexer": "ipython3",
   "version": "3.8.5"
  }
 },
 "nbformat": 4,
 "nbformat_minor": 4
}
